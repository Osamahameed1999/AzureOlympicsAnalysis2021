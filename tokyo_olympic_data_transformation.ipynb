{
 "cells": [
  {
   "cell_type": "code",
   "execution_count": 0,
   "metadata": {
    "application/vnd.databricks.v1+cell": {
     "cellMetadata": {
      "byteLimit": 2048000,
      "rowLimit": 10000
     },
     "inputWidgets": {},
     "nuid": "ccd5c984-6a17-47b3-8519-ae6c0bb8fb0d",
     "showTitle": false,
     "tableResultSettingsMap": {},
     "title": ""
    }
   },
   "outputs": [],
   "source": [
    "from pyspark.sql.functions import col, lit, when\n",
    "from pyspark.sql.types import IntegerType, DoubleType, BooleanType, DateType"
   ]
  },
  {
   "cell_type": "code",
   "execution_count": 0,
   "metadata": {
    "application/vnd.databricks.v1+cell": {
     "cellMetadata": {
      "byteLimit": 2048000,
      "rowLimit": 10000
     },
     "inputWidgets": {},
     "nuid": "faed78dc-313b-4ab6-9a89-7e5bcc03ce67",
     "showTitle": false,
     "tableResultSettingsMap": {},
     "title": ""
    }
   },
   "outputs": [
    {
     "output_type": "stream",
     "name": "stdout",
     "output_type": "stream",
     "text": [
      "Out[8]: True"
     ]
    }
   ],
   "source": [
    "configs = {\n",
    "    \"fs.azure.account.auth.type\": \"OAuth\",\n",
    "    \"fs.azure.account.oauth.provider.type\": \"org.apache.hadoop.fs.azurebfs.oauth2.ClientCredsTokenProvider\",\n",
    "    \"fs.azure.account.oauth2.client.id\": \"<client-id>\",\n",
    "    \"fs.azure.account.oauth2.client.secret\": \"<secret-value>\",\n",
    "    \"fs.azure.account.oauth2.client.endpoint\": \"https://login.microsoftonline.com/<tenant-id>/oauth2/token\"\n",
    "}\n",
    "\n",
    "dbutils.fs.mount(\n",
    "    source=\"abfss://tokyo-olympic-data@mayvalutofdp203.dfs.core.windows.net/\",\n",
    "    mount_point=\"/mnt/tokyo-olympic\",\n",
    "    extra_configs=configs\n",
    "    )"
   ]
  },
  {
   "cell_type": "code",
   "execution_count": 0,
   "metadata": {
    "application/vnd.databricks.v1+cell": {
     "cellMetadata": {
      "byteLimit": 2048000,
      "rowLimit": 10000
     },
     "inputWidgets": {},
     "nuid": "328f5fdd-08fa-441e-9e96-7c1a4d3573a7",
     "showTitle": false,
     "tableResultSettingsMap": {},
     "title": ""
    }
   },
   "outputs": [
    {
     "output_type": "display_data",
     "data": {
      "text/html": [
       "<style scoped>\n",
       "  .table-result-container {\n",
       "    max-height: 300px;\n",
       "    overflow: auto;\n",
       "  }\n",
       "  table, th, td {\n",
       "    border: 1px solid black;\n",
       "    border-collapse: collapse;\n",
       "  }\n",
       "  th, td {\n",
       "    padding: 5px;\n",
       "  }\n",
       "  th {\n",
       "    text-align: left;\n",
       "  }\n",
       "</style><div class='table-result-container'><table class='table-result'><thead style='background-color: white'><tr><th>path</th><th>name</th><th>size</th><th>modificationTime</th></tr></thead><tbody><tr><td>dbfs:/mnt/tokyo-olympic/raw-data/</td><td>raw-data/</td><td>0</td><td>1732394730000</td></tr><tr><td>dbfs:/mnt/tokyo-olympic/transformed-data/</td><td>transformed-data/</td><td>0</td><td>1732394743000</td></tr></tbody></table></div>"
      ]
     },
     "metadata": {
      "application/vnd.databricks.v1+output": {
       "addedWidgets": {},
       "aggData": [],
       "aggError": "",
       "aggOverflow": false,
       "aggSchema": [],
       "aggSeriesLimitReached": false,
       "aggType": "",
       "arguments": {},
       "columnCustomDisplayInfos": {},
       "data": [
        [
         "dbfs:/mnt/tokyo-olympic/raw-data/",
         "raw-data/",
         0,
         1732394730000
        ],
        [
         "dbfs:/mnt/tokyo-olympic/transformed-data/",
         "transformed-data/",
         0,
         1732394743000
        ]
       ],
       "datasetInfos": [],
       "dbfsResultPath": null,
       "isJsonSchema": true,
       "metadata": {
        "isDbfsCommandResult": false
       },
       "overflow": false,
       "plotOptions": {
        "customPlotOptions": {},
        "displayType": "table",
        "pivotAggregation": null,
        "pivotColumns": null,
        "xColumns": null,
        "yColumns": null
       },
       "removedWidgets": [],
       "schema": [
        {
         "metadata": "{}",
         "name": "path",
         "type": "\"string\""
        },
        {
         "metadata": "{}",
         "name": "name",
         "type": "\"string\""
        },
        {
         "metadata": "{}",
         "name": "size",
         "type": "\"long\""
        },
        {
         "metadata": "{}",
         "name": "modificationTime",
         "type": "\"long\""
        }
       ],
       "type": "table"
      }
     },
     "output_type": "display_data"
    }
   ],
   "source": [
    "%fs\n",
    "ls \"/mnt/tokyo-olympic\""
   ]
  },
  {
   "cell_type": "code",
   "execution_count": 0,
   "metadata": {
    "application/vnd.databricks.v1+cell": {
     "cellMetadata": {
      "byteLimit": 2048000,
      "rowLimit": 10000
     },
     "inputWidgets": {},
     "nuid": "aa143147-f22e-49e8-836a-3cf815d5863c",
     "showTitle": false,
     "tableResultSettingsMap": {},
     "title": ""
    }
   },
   "outputs": [],
   "source": [
    "# Define a fucntion to load CSV Data \n",
    "\n",
    "def load_csv_data(spark, file_path, header=True, inferSchema=True, encoding=\"UTF-8\"):\n",
    "    return spark.read.format(\"csv\").option(\"header\", header).option(\"inferSchema\", inferSchema).option(\"encoding\", encoding).load(file_path)\n"
   ]
  },
  {
   "cell_type": "code",
   "execution_count": 0,
   "metadata": {
    "application/vnd.databricks.v1+cell": {
     "cellMetadata": {
      "byteLimit": 2048000,
      "rowLimit": 10000
     },
     "inputWidgets": {},
     "nuid": "45f9da84-8278-4f62-ada5-cae2144c8b1e",
     "showTitle": false,
     "tableResultSettingsMap": {},
     "title": ""
    }
   },
   "outputs": [],
   "source": [
    "# Load Datasets using the above fundtion\n",
    "\n",
    "athletes = load_csv_data(spark, \"/mnt/tokyo-olympic/raw-data/athletes.csv\")\n",
    "coaches = load_csv_data(spark, \"/mnt/tokyo-olympic/raw-data/coaches.csv\")\n",
    "entriesgender = load_csv_data(spark, \"/mnt/tokyo-olympic/raw-data/entriesgender.csv\")\n",
    "medals = load_csv_data(spark, \"/mnt/tokyo-olympic/raw-data/medals.csv\")\n",
    "teams = load_csv_data(spark, \"/mnt/tokyo-olympic/raw-data/teams.csv\")"
   ]
  },
  {
   "cell_type": "code",
   "execution_count": 0,
   "metadata": {
    "application/vnd.databricks.v1+cell": {
     "cellMetadata": {
      "byteLimit": 2048000,
      "rowLimit": 10000
     },
     "inputWidgets": {},
     "nuid": "f4e9ba4e-e05c-4144-b02d-edd24c1bed4e",
     "showTitle": false,
     "tableResultSettingsMap": {},
     "title": ""
    }
   },
   "outputs": [
    {
     "output_type": "stream",
     "name": "stdout",
     "output_type": "stream",
     "text": [
      "root\n |-- Rank: integer (nullable = true)\n |-- Team_Country: string (nullable = true)\n |-- Gold: integer (nullable = true)\n |-- Silver: integer (nullable = true)\n |-- Bronze: integer (nullable = true)\n |-- Total: integer (nullable = true)\n |-- Rank by Total: integer (nullable = true)\n\nroot\n |-- PersonName: string (nullable = true)\n |-- Country: string (nullable = true)\n |-- Discipline: string (nullable = true)\n\n"
     ]
    }
   ],
   "source": [
    "medals.printSchema()\n",
    "athletes.printSchema()"
   ]
  },
  {
   "cell_type": "code",
   "execution_count": 0,
   "metadata": {
    "application/vnd.databricks.v1+cell": {
     "cellMetadata": {
      "byteLimit": 2048000,
      "rowLimit": 10000
     },
     "inputWidgets": {},
     "nuid": "a903baef-5215-44ea-9bf4-d07238601a44",
     "showTitle": false,
     "tableResultSettingsMap": {},
     "title": ""
    }
   },
   "outputs": [
    {
     "output_type": "stream",
     "name": "stdout",
     "output_type": "stream",
     "text": [
      "+-----------------+-------+-------------------+\n|       PersonName|Country|         Discipline|\n+-----------------+-------+-------------------+\n|  AALERUD Katrine| Norway|       Cycling Road|\n|      ABAD Nestor|  Spain|Artistic Gymnastics|\n|ABAGNALE Giovanni|  Italy|             Rowing|\n|   ABALDE Alberto|  Spain|         Basketball|\n|    ABALDE Tamara|  Spain|         Basketball|\n+-----------------+-------+-------------------+\nonly showing top 5 rows\n\n+---------------+-------------+----------+-----+\n|           Name|      Country|Discipline|Event|\n+---------------+-------------+----------+-----+\n|ABDELMAGID Wael|        Egypt|  Football| null|\n|      ABE Junya|        Japan|Volleyball| null|\n|  ABE Katsuhiko|        Japan|Basketball| null|\n|   ADAMA Cherif|C�te d'Ivoire|  Football| null|\n|     AGEBA Yuya|        Japan|Volleyball| null|\n+---------------+-------------+----------+-----+\nonly showing top 5 rows\n\n+-------------------+------+----+-----+\n|         Discipline|Female|Male|Total|\n+-------------------+------+----+-----+\n|     3x3 Basketball|    32|  32|   64|\n|            Archery|    64|  64|  128|\n|Artistic Gymnastics|    98|  98|  196|\n|  Artistic Swimming|   105|   0|  105|\n|          Athletics|   969|1072| 2041|\n+-------------------+------+----+-----+\nonly showing top 5 rows\n\n+----+--------------------+----+------+------+-----+-------------+\n|Rank|        Team_Country|Gold|Silver|Bronze|Total|Rank by Total|\n+----+--------------------+----+------+------+-----+-------------+\n|   1|United States of ...|  39|    41|    33|  113|            1|\n|   2|People's Republic...|  38|    32|    18|   88|            2|\n|   3|               Japan|  27|    14|    17|   58|            5|\n|   4|       Great Britain|  22|    21|    22|   65|            4|\n|   5|                 ROC|  20|    28|    23|   71|            3|\n+----+--------------------+----+------+------+-----+-------------+\nonly showing top 5 rows\n\n+--------+--------------+--------------------+-----+\n|TeamName|    Discipline|             Country|Event|\n+--------+--------------+--------------------+-----+\n| Belgium|3x3 Basketball|             Belgium|  Men|\n|   China|3x3 Basketball|People's Republic...|  Men|\n|   China|3x3 Basketball|People's Republic...|Women|\n|  France|3x3 Basketball|              France|Women|\n|   Italy|3x3 Basketball|               Italy|Women|\n+--------+--------------+--------------------+-----+\nonly showing top 5 rows\n\n"
     ]
    }
   ],
   "source": [
    "# Verify by displaying the first few rows of each DataFrame\n",
    "\n",
    "athletes.show(5)\n",
    "coaches.show(5)\n",
    "entriesgender.show(5)\n",
    "medals.show(5)\n",
    "teams.show(5)"
   ]
  },
  {
   "cell_type": "code",
   "execution_count": 0,
   "metadata": {
    "application/vnd.databricks.v1+cell": {
     "cellMetadata": {
      "byteLimit": 2048000,
      "rowLimit": 10000
     },
     "inputWidgets": {},
     "nuid": "24eca221-c77f-4e7b-9a2c-a5d8d9284217",
     "showTitle": false,
     "tableResultSettingsMap": {},
     "title": ""
    }
   },
   "outputs": [
    {
     "output_type": "stream",
     "name": "stdout",
     "output_type": "stream",
     "text": [
      "root\n |-- PersonName: string (nullable = true)\n |-- Country: string (nullable = true)\n |-- Discipline: string (nullable = true)\n\n+-------+-----------------+-----------+--------------+\n|summary|       PersonName|    Country|    Discipline|\n+-------+-----------------+-----------+--------------+\n|  count|            11085|      11085|         11085|\n|   mean|             null|       null|          null|\n| stddev|             null|       null|          null|\n|    min|  AALERUD Katrine|Afghanistan|3x3 Basketball|\n|    max|von MARTELS Chris|   Zimbabwe|     Wrestling|\n+-------+-----------------+-----------+--------------+\n\n"
     ]
    }
   ],
   "source": [
    "# Have a full picture of the athletes DataFrame\n",
    "\n",
    "athletes.printSchema()\n",
    "athletes.describe().show()"
   ]
  },
  {
   "cell_type": "code",
   "execution_count": 0,
   "metadata": {
    "application/vnd.databricks.v1+cell": {
     "cellMetadata": {
      "byteLimit": 2048000,
      "rowLimit": 10000
     },
     "inputWidgets": {},
     "nuid": "14a2332e-9972-49ca-bdd9-00baaf993574",
     "showTitle": false,
     "tableResultSettingsMap": {},
     "title": ""
    }
   },
   "outputs": [],
   "source": [
    "# Fill in missing values\n",
    "\n",
    "coaches = coaches.fillna({'Event': 'Unknown'})"
   ]
  },
  {
   "cell_type": "code",
   "execution_count": 0,
   "metadata": {
    "application/vnd.databricks.v1+cell": {
     "cellMetadata": {
      "byteLimit": 2048000,
      "rowLimit": 10000
     },
     "inputWidgets": {},
     "nuid": "2fb267bd-39b9-490b-abab-d55a08a92f9f",
     "showTitle": false,
     "tableResultSettingsMap": {},
     "title": ""
    }
   },
   "outputs": [
    {
     "output_type": "stream",
     "name": "stdout",
     "output_type": "stream",
     "text": [
      "+----------------+-------------+----------+-------+\n|            Name|      Country|Discipline|  Event|\n+----------------+-------------+----------+-------+\n|    ADAMA Cherif|C�te d'Ivoire|  Football|Unknown|\n|HAIDARA Soualiho|C�te d'Ivoire|  Football|    Men|\n|   JEROME Essapa|C�te d'Ivoire|  Football|Unknown|\n|   KOFFI Anthony|C�te d'Ivoire|  Football|Unknown|\n|NEVES Christophe|C�te d'Ivoire|  Football|Unknown|\n+----------------+-------------+----------+-------+\n\n"
     ]
    }
   ],
   "source": [
    "coaches.filter(coaches['Country'].rlike('[^\\x00-\\x7F]')).show()"
   ]
  },
  {
   "cell_type": "code",
   "execution_count": 0,
   "metadata": {
    "application/vnd.databricks.v1+cell": {
     "cellMetadata": {
      "byteLimit": 2048000,
      "rowLimit": 10000
     },
     "inputWidgets": {},
     "nuid": "c3217919-5065-4c2f-993b-ead353db5467",
     "showTitle": false,
     "tableResultSettingsMap": {},
     "title": ""
    }
   },
   "outputs": [],
   "source": [
    "# Write the transformed data to a transformed directory\n",
    "\n",
    "athletes.repartition(1).write.mode('overwrite').option(\"header\", \"true\").csv(\"/mnt/tokyo-olympic/transformed-data/athletes\")\n",
    "coaches.repartition(1).write.mode('overwrite').option(\"header\", \"true\").csv(\"/mnt/tokyo-olympic/transformed-data/coaches\")\n",
    "entriesgender.repartition(1).write.mode('overwrite').option(\"header\", \"true\").csv(\"/mnt/tokyo-olympic/transformed-data/entriesgender\")\n",
    "medals.repartition(1).write.mode('overwrite').option(\"header\", \"true\").csv(\"/mnt/tokyo-olympic/transformed-data/medals\")\n",
    "teams.repartition(1).write.mode('overwrite').option(\"header\", \"true\").csv(\"/mnt/tokyo-olympic/transformed-data/teams\")\n"
   ]
  }
 ],
 "metadata": {
  "application/vnd.databricks.v1+notebook": {
   "dashboards": [],
   "environmentMetadata": {
    "base_environment": "",
    "client": "1"
   },
   "language": "python",
   "notebookMetadata": {
    "mostRecentlyExecutedCommandWithImplicitDF": {
     "commandId": 3677439149278322,
     "dataframes": [
      "_sqldf"
     ]
    },
    "pythonIndentUnit": 4
   },
   "notebookName": "Tokyo Olympic Data Transformation",
   "widgets": {}
  },
  "language_info": {
   "name": "python"
  }
 },
 "nbformat": 4,
 "nbformat_minor": 0
}
